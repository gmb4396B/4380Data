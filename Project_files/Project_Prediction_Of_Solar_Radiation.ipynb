{
 "cells": [
  {
   "cell_type": "code",
   "execution_count": 1,
   "id": "a7ce6a45",
   "metadata": {},
   "outputs": [
    {
     "data": {
      "text/plain": [
       "'\\nDISCRIPTION GOAL OF THIS PROJECT \\n\\nThis project  researches the Prediction of Solar Radiation Harvesting.\\nThe amount of radiation collected on a particular day determines wether there is \\nsufficient energy to power up Photovoltaic cells. It is there necessary to obtain\\nsupporting data before undertaking such a project. This study aims at providing proof \\nthat task at hand is achievable.\\n\\nI obtained data for the project from kaggle data science website\\nI have be looked at the raw data, analysed and determed the steps necessary to \\norganize it into easily usable format.\\n\\nThis is a regression task.\\nI therefore designed neural network using MPLRegressor model obtained from Sklearn \\nwebsite.\\nIn addition, I obtained a Robustscaler from the same website to scale the data so as to\\naccount for the skewness in the various categorical variables of the data.\\nThe final goal has been achieved by use of a 9 layered  neural network. \\n\\nSeveral necessary adjustements to improve the model have been done by twinking different\\nvaraibles. And I believe that at this point the model is performing at a reasonable \\ndecent score of 70%\\n'"
      ]
     },
     "execution_count": 1,
     "metadata": {},
     "output_type": "execute_result"
    }
   ],
   "source": [
    "\"\"\"\n",
    "DISCRIPTION GOAL OF THIS PROJECT \n",
    "\n",
    "This project  researches the Prediction of Solar Radiation Harvesting.\n",
    "The amount of radiation collected on a particular day determines wether there is \n",
    "sufficient energy to power up Photovoltaic cells. It is there necessary to obtain\n",
    "supporting data before undertaking such a project. This study aims at providing proof \n",
    "that task at hand is achievable.\n",
    "\n",
    "I obtained data for the project from kaggle data science website\n",
    "I have be looked at the raw data, analysed and determed the steps necessary to \n",
    "organize it into easily usable format.\n",
    "\n",
    "This is a regression task.\n",
    "I therefore designed neural network using MPLRegressor model obtained from Sklearn \n",
    "website.\n",
    "In addition, I obtained a Robustscaler from the same website to scale the data so as to\n",
    "account for the skewness in the various categorical variables of the data.\n",
    "The final goal has been achieved by use of a 9 layered  neural network. \n",
    "\n",
    "Several necessary adjustements to improve the model have been done by twinking different\n",
    "varaibles. And I believe that at this point the model is performing at a reasonable \n",
    "decent score of 70%\n",
    "\"\"\""
   ]
  },
  {
   "cell_type": "code",
   "execution_count": 2,
   "id": "48621942",
   "metadata": {},
   "outputs": [],
   "source": [
    "\"\"\"\n",
    "1. Importing The Data set.\n",
    "2.Transforming the data set into python manuplate format.\n",
    "\"\"\"\n",
    "import numpy as np\n",
    "import re\n",
    "import pandas as pd\n",
    "def loaddatafunc():\n",
    "    df = pd.read_csv('/Users/geraldbamundaga/Documents/Python3402/python3402/Data3402_2021_Fall_Solutions1.geraldbamundaga/Labs/lab.7/SolarPrediction.csv')\n",
    "    return df"
   ]
  },
  {
   "cell_type": "code",
   "execution_count": 3,
   "id": "d2af747a",
   "metadata": {},
   "outputs": [
    {
     "data": {
      "text/plain": [
       "32686"
      ]
     },
     "execution_count": 3,
     "metadata": {},
     "output_type": "execute_result"
    }
   ],
   "source": [
    "df=loaddatafunc()\n",
    "len(df)"
   ]
  },
  {
   "cell_type": "code",
   "execution_count": 4,
   "id": "b091a621",
   "metadata": {},
   "outputs": [
    {
     "data": {
      "text/plain": [
       "'\\nFEATURE ENGINEERING:\\nAt this step the data is converted into a different format that will be more useful in terms\\nof data manipulation and visualization. For example new columns for time, day, month and \\nyear are added.\\nI have used regular expression to achieve this format. Below is the is code and new \\ntransformed data set.\\n'"
      ]
     },
     "execution_count": 4,
     "metadata": {},
     "output_type": "execute_result"
    }
   ],
   "source": [
    "\"\"\"\n",
    "FEATURE ENGINEERING:\n",
    "At this step the data is converted into a different format that will be more useful in terms\n",
    "of data manipulation and visualization. For example new columns for time, day, month and \n",
    "year are added.\n",
    "I have used regular expression to achieve this format. Below is the is code and new \n",
    "transformed data set.\n",
    "\"\"\""
   ]
  },
  {
   "cell_type": "code",
   "execution_count": 5,
   "id": "7749d492",
   "metadata": {},
   "outputs": [],
   "source": [
    "\n",
    "loaddatafunc()\n",
    "df['monthOfyear'] = df['Data'].apply(lambda x : re.search(r'^\\d+', x).group(0)).astype(int)\n",
    "df['dayOfmonth'] = df['Data'].apply(lambda x : re.search(r'\\d{2}', x).group(0)).astype(int)\n",
    "df['year'] = df['Data'].apply(lambda x : re.search(r'\\d{4}', x).group(0)).astype(int)"
   ]
  },
  {
   "cell_type": "code",
   "execution_count": 6,
   "id": "ff4c7ba2",
   "metadata": {},
   "outputs": [],
   "source": [
    "df['hourOfday'] = df['Time'].apply(lambda x : re.search(r'^\\d{2}', x).group(0)).astype(int)\n",
    "df['minuteOfhour'] = df['Time'].apply(lambda x : re.search(r'(?<=\\:)\\d{2}', x).group(0)).astype(int)\n",
    "df['secondsOminute'] = df['Time'].apply(lambda x : re.search(r'\\d{2}$', x).group(0)).astype(int)"
   ]
  },
  {
   "cell_type": "code",
   "execution_count": 7,
   "id": "14ad004a",
   "metadata": {},
   "outputs": [],
   "source": [
    "df['Sunrisehour'] = df['TimeSunRise'].apply(lambda x : re.search(r'^\\d{2,}', x).group(0)).astype(int)\n",
    "df['Sunriseminuter'] = df['TimeSunRise'].apply(lambda x : re.search(r'(?<=\\:)\\d{2}', x).group(0)).astype(int)\n",
    "\n",
    "df['Sunsethour'] = df['TimeSunSet'].apply(lambda x : re.search(r'^\\d{2}', x).group(0)).astype(int)\n",
    "df['Sunsetminute'] = df['TimeSunSet'].apply(lambda x : re.search(r'(?<=\\:)\\d{2}', x).group(0)).astype(int)"
   ]
  },
  {
   "cell_type": "code",
   "execution_count": 8,
   "id": "cd855a49",
   "metadata": {},
   "outputs": [
    {
     "data": {
      "text/html": [
       "<div>\n",
       "<style scoped>\n",
       "    .dataframe tbody tr th:only-of-type {\n",
       "        vertical-align: middle;\n",
       "    }\n",
       "\n",
       "    .dataframe tbody tr th {\n",
       "        vertical-align: top;\n",
       "    }\n",
       "\n",
       "    .dataframe thead th {\n",
       "        text-align: right;\n",
       "    }\n",
       "</style>\n",
       "<table border=\"1\" class=\"dataframe\">\n",
       "  <thead>\n",
       "    <tr style=\"text-align: right;\">\n",
       "      <th></th>\n",
       "      <th>UNIXTime</th>\n",
       "      <th>Data</th>\n",
       "      <th>Time</th>\n",
       "      <th>Radiation</th>\n",
       "      <th>Temperature</th>\n",
       "      <th>Pressure</th>\n",
       "      <th>Humidity</th>\n",
       "      <th>WindDirection(Degrees)</th>\n",
       "      <th>Speed</th>\n",
       "      <th>TimeSunRise</th>\n",
       "      <th>...</th>\n",
       "      <th>monthOfyear</th>\n",
       "      <th>dayOfmonth</th>\n",
       "      <th>year</th>\n",
       "      <th>hourOfday</th>\n",
       "      <th>minuteOfhour</th>\n",
       "      <th>secondsOminute</th>\n",
       "      <th>Sunrisehour</th>\n",
       "      <th>Sunriseminuter</th>\n",
       "      <th>Sunsethour</th>\n",
       "      <th>Sunsetminute</th>\n",
       "    </tr>\n",
       "  </thead>\n",
       "  <tbody>\n",
       "    <tr>\n",
       "      <th>0</th>\n",
       "      <td>1475229326</td>\n",
       "      <td>9/29/2016 12:00:00 AM</td>\n",
       "      <td>23:55:26</td>\n",
       "      <td>1.21</td>\n",
       "      <td>48</td>\n",
       "      <td>30.46</td>\n",
       "      <td>59</td>\n",
       "      <td>177.39</td>\n",
       "      <td>5.62</td>\n",
       "      <td>06:13:00</td>\n",
       "      <td>...</td>\n",
       "      <td>9</td>\n",
       "      <td>29</td>\n",
       "      <td>2016</td>\n",
       "      <td>23</td>\n",
       "      <td>55</td>\n",
       "      <td>26</td>\n",
       "      <td>6</td>\n",
       "      <td>13</td>\n",
       "      <td>18</td>\n",
       "      <td>13</td>\n",
       "    </tr>\n",
       "    <tr>\n",
       "      <th>1</th>\n",
       "      <td>1475229023</td>\n",
       "      <td>9/29/2016 12:00:00 AM</td>\n",
       "      <td>23:50:23</td>\n",
       "      <td>1.21</td>\n",
       "      <td>48</td>\n",
       "      <td>30.46</td>\n",
       "      <td>58</td>\n",
       "      <td>176.78</td>\n",
       "      <td>3.37</td>\n",
       "      <td>06:13:00</td>\n",
       "      <td>...</td>\n",
       "      <td>9</td>\n",
       "      <td>29</td>\n",
       "      <td>2016</td>\n",
       "      <td>23</td>\n",
       "      <td>50</td>\n",
       "      <td>23</td>\n",
       "      <td>6</td>\n",
       "      <td>13</td>\n",
       "      <td>18</td>\n",
       "      <td>13</td>\n",
       "    </tr>\n",
       "    <tr>\n",
       "      <th>2</th>\n",
       "      <td>1475228726</td>\n",
       "      <td>9/29/2016 12:00:00 AM</td>\n",
       "      <td>23:45:26</td>\n",
       "      <td>1.23</td>\n",
       "      <td>48</td>\n",
       "      <td>30.46</td>\n",
       "      <td>57</td>\n",
       "      <td>158.75</td>\n",
       "      <td>3.37</td>\n",
       "      <td>06:13:00</td>\n",
       "      <td>...</td>\n",
       "      <td>9</td>\n",
       "      <td>29</td>\n",
       "      <td>2016</td>\n",
       "      <td>23</td>\n",
       "      <td>45</td>\n",
       "      <td>26</td>\n",
       "      <td>6</td>\n",
       "      <td>13</td>\n",
       "      <td>18</td>\n",
       "      <td>13</td>\n",
       "    </tr>\n",
       "    <tr>\n",
       "      <th>3</th>\n",
       "      <td>1475228421</td>\n",
       "      <td>9/29/2016 12:00:00 AM</td>\n",
       "      <td>23:40:21</td>\n",
       "      <td>1.21</td>\n",
       "      <td>48</td>\n",
       "      <td>30.46</td>\n",
       "      <td>60</td>\n",
       "      <td>137.71</td>\n",
       "      <td>3.37</td>\n",
       "      <td>06:13:00</td>\n",
       "      <td>...</td>\n",
       "      <td>9</td>\n",
       "      <td>29</td>\n",
       "      <td>2016</td>\n",
       "      <td>23</td>\n",
       "      <td>40</td>\n",
       "      <td>21</td>\n",
       "      <td>6</td>\n",
       "      <td>13</td>\n",
       "      <td>18</td>\n",
       "      <td>13</td>\n",
       "    </tr>\n",
       "    <tr>\n",
       "      <th>4</th>\n",
       "      <td>1475228124</td>\n",
       "      <td>9/29/2016 12:00:00 AM</td>\n",
       "      <td>23:35:24</td>\n",
       "      <td>1.17</td>\n",
       "      <td>48</td>\n",
       "      <td>30.46</td>\n",
       "      <td>62</td>\n",
       "      <td>104.95</td>\n",
       "      <td>5.62</td>\n",
       "      <td>06:13:00</td>\n",
       "      <td>...</td>\n",
       "      <td>9</td>\n",
       "      <td>29</td>\n",
       "      <td>2016</td>\n",
       "      <td>23</td>\n",
       "      <td>35</td>\n",
       "      <td>24</td>\n",
       "      <td>6</td>\n",
       "      <td>13</td>\n",
       "      <td>18</td>\n",
       "      <td>13</td>\n",
       "    </tr>\n",
       "    <tr>\n",
       "      <th>...</th>\n",
       "      <td>...</td>\n",
       "      <td>...</td>\n",
       "      <td>...</td>\n",
       "      <td>...</td>\n",
       "      <td>...</td>\n",
       "      <td>...</td>\n",
       "      <td>...</td>\n",
       "      <td>...</td>\n",
       "      <td>...</td>\n",
       "      <td>...</td>\n",
       "      <td>...</td>\n",
       "      <td>...</td>\n",
       "      <td>...</td>\n",
       "      <td>...</td>\n",
       "      <td>...</td>\n",
       "      <td>...</td>\n",
       "      <td>...</td>\n",
       "      <td>...</td>\n",
       "      <td>...</td>\n",
       "      <td>...</td>\n",
       "      <td>...</td>\n",
       "    </tr>\n",
       "    <tr>\n",
       "      <th>7412</th>\n",
       "      <td>1472725809</td>\n",
       "      <td>9/1/2016 12:00:00 AM</td>\n",
       "      <td>00:30:09</td>\n",
       "      <td>2.25</td>\n",
       "      <td>51</td>\n",
       "      <td>30.43</td>\n",
       "      <td>103</td>\n",
       "      <td>67.42</td>\n",
       "      <td>11.25</td>\n",
       "      <td>06:07:00</td>\n",
       "      <td>...</td>\n",
       "      <td>9</td>\n",
       "      <td>20</td>\n",
       "      <td>2016</td>\n",
       "      <td>0</td>\n",
       "      <td>30</td>\n",
       "      <td>9</td>\n",
       "      <td>6</td>\n",
       "      <td>7</td>\n",
       "      <td>18</td>\n",
       "      <td>38</td>\n",
       "    </tr>\n",
       "    <tr>\n",
       "      <th>7413</th>\n",
       "      <td>1472725505</td>\n",
       "      <td>9/1/2016 12:00:00 AM</td>\n",
       "      <td>00:25:05</td>\n",
       "      <td>2.21</td>\n",
       "      <td>51</td>\n",
       "      <td>30.43</td>\n",
       "      <td>103</td>\n",
       "      <td>144.12</td>\n",
       "      <td>18.00</td>\n",
       "      <td>06:07:00</td>\n",
       "      <td>...</td>\n",
       "      <td>9</td>\n",
       "      <td>20</td>\n",
       "      <td>2016</td>\n",
       "      <td>0</td>\n",
       "      <td>25</td>\n",
       "      <td>5</td>\n",
       "      <td>6</td>\n",
       "      <td>7</td>\n",
       "      <td>18</td>\n",
       "      <td>38</td>\n",
       "    </tr>\n",
       "    <tr>\n",
       "      <th>7414</th>\n",
       "      <td>1472725206</td>\n",
       "      <td>9/1/2016 12:00:00 AM</td>\n",
       "      <td>00:20:06</td>\n",
       "      <td>2.16</td>\n",
       "      <td>51</td>\n",
       "      <td>30.43</td>\n",
       "      <td>103</td>\n",
       "      <td>142.04</td>\n",
       "      <td>7.87</td>\n",
       "      <td>06:07:00</td>\n",
       "      <td>...</td>\n",
       "      <td>9</td>\n",
       "      <td>20</td>\n",
       "      <td>2016</td>\n",
       "      <td>0</td>\n",
       "      <td>20</td>\n",
       "      <td>6</td>\n",
       "      <td>6</td>\n",
       "      <td>7</td>\n",
       "      <td>18</td>\n",
       "      <td>38</td>\n",
       "    </tr>\n",
       "    <tr>\n",
       "      <th>7415</th>\n",
       "      <td>1472724310</td>\n",
       "      <td>9/1/2016 12:00:00 AM</td>\n",
       "      <td>00:05:10</td>\n",
       "      <td>2.83</td>\n",
       "      <td>51</td>\n",
       "      <td>30.43</td>\n",
       "      <td>103</td>\n",
       "      <td>153.44</td>\n",
       "      <td>9.00</td>\n",
       "      <td>06:07:00</td>\n",
       "      <td>...</td>\n",
       "      <td>9</td>\n",
       "      <td>20</td>\n",
       "      <td>2016</td>\n",
       "      <td>0</td>\n",
       "      <td>5</td>\n",
       "      <td>10</td>\n",
       "      <td>6</td>\n",
       "      <td>7</td>\n",
       "      <td>18</td>\n",
       "      <td>38</td>\n",
       "    </tr>\n",
       "    <tr>\n",
       "      <th>7416</th>\n",
       "      <td>1472724008</td>\n",
       "      <td>9/1/2016 12:00:00 AM</td>\n",
       "      <td>00:00:08</td>\n",
       "      <td>2.58</td>\n",
       "      <td>51</td>\n",
       "      <td>30.43</td>\n",
       "      <td>103</td>\n",
       "      <td>77.27</td>\n",
       "      <td>11.25</td>\n",
       "      <td>06:07:00</td>\n",
       "      <td>...</td>\n",
       "      <td>9</td>\n",
       "      <td>20</td>\n",
       "      <td>2016</td>\n",
       "      <td>0</td>\n",
       "      <td>0</td>\n",
       "      <td>8</td>\n",
       "      <td>6</td>\n",
       "      <td>7</td>\n",
       "      <td>18</td>\n",
       "      <td>38</td>\n",
       "    </tr>\n",
       "  </tbody>\n",
       "</table>\n",
       "<p>7417 rows × 21 columns</p>\n",
       "</div>"
      ],
      "text/plain": [
       "        UNIXTime                   Data      Time  Radiation  Temperature  \\\n",
       "0     1475229326  9/29/2016 12:00:00 AM  23:55:26       1.21           48   \n",
       "1     1475229023  9/29/2016 12:00:00 AM  23:50:23       1.21           48   \n",
       "2     1475228726  9/29/2016 12:00:00 AM  23:45:26       1.23           48   \n",
       "3     1475228421  9/29/2016 12:00:00 AM  23:40:21       1.21           48   \n",
       "4     1475228124  9/29/2016 12:00:00 AM  23:35:24       1.17           48   \n",
       "...          ...                    ...       ...        ...          ...   \n",
       "7412  1472725809   9/1/2016 12:00:00 AM  00:30:09       2.25           51   \n",
       "7413  1472725505   9/1/2016 12:00:00 AM  00:25:05       2.21           51   \n",
       "7414  1472725206   9/1/2016 12:00:00 AM  00:20:06       2.16           51   \n",
       "7415  1472724310   9/1/2016 12:00:00 AM  00:05:10       2.83           51   \n",
       "7416  1472724008   9/1/2016 12:00:00 AM  00:00:08       2.58           51   \n",
       "\n",
       "      Pressure  Humidity  WindDirection(Degrees)  Speed TimeSunRise  ...  \\\n",
       "0        30.46        59                  177.39   5.62    06:13:00  ...   \n",
       "1        30.46        58                  176.78   3.37    06:13:00  ...   \n",
       "2        30.46        57                  158.75   3.37    06:13:00  ...   \n",
       "3        30.46        60                  137.71   3.37    06:13:00  ...   \n",
       "4        30.46        62                  104.95   5.62    06:13:00  ...   \n",
       "...        ...       ...                     ...    ...         ...  ...   \n",
       "7412     30.43       103                   67.42  11.25    06:07:00  ...   \n",
       "7413     30.43       103                  144.12  18.00    06:07:00  ...   \n",
       "7414     30.43       103                  142.04   7.87    06:07:00  ...   \n",
       "7415     30.43       103                  153.44   9.00    06:07:00  ...   \n",
       "7416     30.43       103                   77.27  11.25    06:07:00  ...   \n",
       "\n",
       "     monthOfyear  dayOfmonth  year  hourOfday  minuteOfhour  secondsOminute  \\\n",
       "0              9          29  2016         23            55              26   \n",
       "1              9          29  2016         23            50              23   \n",
       "2              9          29  2016         23            45              26   \n",
       "3              9          29  2016         23            40              21   \n",
       "4              9          29  2016         23            35              24   \n",
       "...          ...         ...   ...        ...           ...             ...   \n",
       "7412           9          20  2016          0            30               9   \n",
       "7413           9          20  2016          0            25               5   \n",
       "7414           9          20  2016          0            20               6   \n",
       "7415           9          20  2016          0             5              10   \n",
       "7416           9          20  2016          0             0               8   \n",
       "\n",
       "      Sunrisehour  Sunriseminuter  Sunsethour  Sunsetminute  \n",
       "0               6              13          18            13  \n",
       "1               6              13          18            13  \n",
       "2               6              13          18            13  \n",
       "3               6              13          18            13  \n",
       "4               6              13          18            13  \n",
       "...           ...             ...         ...           ...  \n",
       "7412            6               7          18            38  \n",
       "7413            6               7          18            38  \n",
       "7414            6               7          18            38  \n",
       "7415            6               7          18            38  \n",
       "7416            6               7          18            38  \n",
       "\n",
       "[7417 rows x 21 columns]"
      ]
     },
     "execution_count": 8,
     "metadata": {},
     "output_type": "execute_result"
    }
   ],
   "source": [
    "df. loc[df['monthOfyear'] ==9]"
   ]
  },
  {
   "cell_type": "code",
   "execution_count": 9,
   "id": "a95d64d2",
   "metadata": {},
   "outputs": [
    {
     "data": {
      "text/plain": [
       "\"Below are the Radiation value between 10:00 and 17:00pm. During this time period you get the most \\nsun: The are save in the variable dataAdjusted. I'm seperating data in this format \\nbecause this range of time of the day is optimal energy production since the\\n\""
      ]
     },
     "execution_count": 9,
     "metadata": {},
     "output_type": "execute_result"
    }
   ],
   "source": [
    "\"\"\"Below are the Radiation value between 10:00 and 17:00pm. During this time period you get the most \n",
    "sun: The are save in the variable dataAdjusted. I'm seperating data in this format \n",
    "because this range of time of the day is optimal energy production since the\n",
    "\"\"\""
   ]
  },
  {
   "cell_type": "code",
   "execution_count": 10,
   "id": "2c8b65af",
   "metadata": {},
   "outputs": [],
   "source": [
    "\n",
    "dataAdjusted=df.loc[(df['hourOfday'] >10 )&(df['hourOfday']  <17) & (df['Radiation'] > 150)]"
   ]
  },
  {
   "cell_type": "code",
   "execution_count": 11,
   "id": "d2f965e1",
   "metadata": {},
   "outputs": [
    {
     "data": {
      "text/html": [
       "<div>\n",
       "<style scoped>\n",
       "    .dataframe tbody tr th:only-of-type {\n",
       "        vertical-align: middle;\n",
       "    }\n",
       "\n",
       "    .dataframe tbody tr th {\n",
       "        vertical-align: top;\n",
       "    }\n",
       "\n",
       "    .dataframe thead th {\n",
       "        text-align: right;\n",
       "    }\n",
       "</style>\n",
       "<table border=\"1\" class=\"dataframe\">\n",
       "  <thead>\n",
       "    <tr style=\"text-align: right;\">\n",
       "      <th></th>\n",
       "      <th>UNIXTime</th>\n",
       "      <th>Data</th>\n",
       "      <th>Time</th>\n",
       "      <th>Radiation</th>\n",
       "      <th>Temperature</th>\n",
       "      <th>Pressure</th>\n",
       "      <th>Humidity</th>\n",
       "      <th>WindDirection(Degrees)</th>\n",
       "      <th>Speed</th>\n",
       "      <th>TimeSunRise</th>\n",
       "      <th>...</th>\n",
       "      <th>monthOfyear</th>\n",
       "      <th>dayOfmonth</th>\n",
       "      <th>year</th>\n",
       "      <th>hourOfday</th>\n",
       "      <th>minuteOfhour</th>\n",
       "      <th>secondsOminute</th>\n",
       "      <th>Sunrisehour</th>\n",
       "      <th>Sunriseminuter</th>\n",
       "      <th>Sunsethour</th>\n",
       "      <th>Sunsetminute</th>\n",
       "    </tr>\n",
       "  </thead>\n",
       "  <tbody>\n",
       "    <tr>\n",
       "      <th>84</th>\n",
       "      <td>1475204125</td>\n",
       "      <td>9/29/2016 12:00:00 AM</td>\n",
       "      <td>16:55:25</td>\n",
       "      <td>300.94</td>\n",
       "      <td>58</td>\n",
       "      <td>30.43</td>\n",
       "      <td>55</td>\n",
       "      <td>45.88</td>\n",
       "      <td>3.37</td>\n",
       "      <td>06:13:00</td>\n",
       "      <td>...</td>\n",
       "      <td>9</td>\n",
       "      <td>29</td>\n",
       "      <td>2016</td>\n",
       "      <td>16</td>\n",
       "      <td>55</td>\n",
       "      <td>25</td>\n",
       "      <td>6</td>\n",
       "      <td>13</td>\n",
       "      <td>18</td>\n",
       "      <td>13</td>\n",
       "    </tr>\n",
       "    <tr>\n",
       "      <th>85</th>\n",
       "      <td>1475203822</td>\n",
       "      <td>9/29/2016 12:00:00 AM</td>\n",
       "      <td>16:50:22</td>\n",
       "      <td>322.71</td>\n",
       "      <td>58</td>\n",
       "      <td>30.43</td>\n",
       "      <td>56</td>\n",
       "      <td>94.24</td>\n",
       "      <td>7.87</td>\n",
       "      <td>06:13:00</td>\n",
       "      <td>...</td>\n",
       "      <td>9</td>\n",
       "      <td>29</td>\n",
       "      <td>2016</td>\n",
       "      <td>16</td>\n",
       "      <td>50</td>\n",
       "      <td>22</td>\n",
       "      <td>6</td>\n",
       "      <td>13</td>\n",
       "      <td>18</td>\n",
       "      <td>13</td>\n",
       "    </tr>\n",
       "    <tr>\n",
       "      <th>86</th>\n",
       "      <td>1475203538</td>\n",
       "      <td>9/29/2016 12:00:00 AM</td>\n",
       "      <td>16:45:38</td>\n",
       "      <td>346.59</td>\n",
       "      <td>58</td>\n",
       "      <td>30.43</td>\n",
       "      <td>50</td>\n",
       "      <td>81.57</td>\n",
       "      <td>6.75</td>\n",
       "      <td>06:13:00</td>\n",
       "      <td>...</td>\n",
       "      <td>9</td>\n",
       "      <td>29</td>\n",
       "      <td>2016</td>\n",
       "      <td>16</td>\n",
       "      <td>45</td>\n",
       "      <td>38</td>\n",
       "      <td>6</td>\n",
       "      <td>13</td>\n",
       "      <td>18</td>\n",
       "      <td>13</td>\n",
       "    </tr>\n",
       "    <tr>\n",
       "      <th>87</th>\n",
       "      <td>1475203220</td>\n",
       "      <td>9/29/2016 12:00:00 AM</td>\n",
       "      <td>16:40:20</td>\n",
       "      <td>364.18</td>\n",
       "      <td>58</td>\n",
       "      <td>30.43</td>\n",
       "      <td>49</td>\n",
       "      <td>351.03</td>\n",
       "      <td>7.87</td>\n",
       "      <td>06:13:00</td>\n",
       "      <td>...</td>\n",
       "      <td>9</td>\n",
       "      <td>29</td>\n",
       "      <td>2016</td>\n",
       "      <td>16</td>\n",
       "      <td>40</td>\n",
       "      <td>20</td>\n",
       "      <td>6</td>\n",
       "      <td>13</td>\n",
       "      <td>18</td>\n",
       "      <td>13</td>\n",
       "    </tr>\n",
       "    <tr>\n",
       "      <th>88</th>\n",
       "      <td>1475202941</td>\n",
       "      <td>9/29/2016 12:00:00 AM</td>\n",
       "      <td>16:35:41</td>\n",
       "      <td>368.35</td>\n",
       "      <td>58</td>\n",
       "      <td>30.43</td>\n",
       "      <td>51</td>\n",
       "      <td>78.81</td>\n",
       "      <td>5.62</td>\n",
       "      <td>06:13:00</td>\n",
       "      <td>...</td>\n",
       "      <td>9</td>\n",
       "      <td>29</td>\n",
       "      <td>2016</td>\n",
       "      <td>16</td>\n",
       "      <td>35</td>\n",
       "      <td>41</td>\n",
       "      <td>6</td>\n",
       "      <td>13</td>\n",
       "      <td>18</td>\n",
       "      <td>13</td>\n",
       "    </tr>\n",
       "    <tr>\n",
       "      <th>...</th>\n",
       "      <td>...</td>\n",
       "      <td>...</td>\n",
       "      <td>...</td>\n",
       "      <td>...</td>\n",
       "      <td>...</td>\n",
       "      <td>...</td>\n",
       "      <td>...</td>\n",
       "      <td>...</td>\n",
       "      <td>...</td>\n",
       "      <td>...</td>\n",
       "      <td>...</td>\n",
       "      <td>...</td>\n",
       "      <td>...</td>\n",
       "      <td>...</td>\n",
       "      <td>...</td>\n",
       "      <td>...</td>\n",
       "      <td>...</td>\n",
       "      <td>...</td>\n",
       "      <td>...</td>\n",
       "      <td>...</td>\n",
       "      <td>...</td>\n",
       "    </tr>\n",
       "    <tr>\n",
       "      <th>32528</th>\n",
       "      <td>1480633503</td>\n",
       "      <td>12/1/2016 12:00:00 AM</td>\n",
       "      <td>13:05:03</td>\n",
       "      <td>384.66</td>\n",
       "      <td>45</td>\n",
       "      <td>30.39</td>\n",
       "      <td>93</td>\n",
       "      <td>47.18</td>\n",
       "      <td>10.12</td>\n",
       "      <td>06:41:00</td>\n",
       "      <td>...</td>\n",
       "      <td>12</td>\n",
       "      <td>12</td>\n",
       "      <td>2016</td>\n",
       "      <td>13</td>\n",
       "      <td>5</td>\n",
       "      <td>3</td>\n",
       "      <td>6</td>\n",
       "      <td>41</td>\n",
       "      <td>17</td>\n",
       "      <td>42</td>\n",
       "    </tr>\n",
       "    <tr>\n",
       "      <th>32529</th>\n",
       "      <td>1480633201</td>\n",
       "      <td>12/1/2016 12:00:00 AM</td>\n",
       "      <td>13:00:01</td>\n",
       "      <td>269.61</td>\n",
       "      <td>45</td>\n",
       "      <td>30.39</td>\n",
       "      <td>93</td>\n",
       "      <td>355.33</td>\n",
       "      <td>14.62</td>\n",
       "      <td>06:41:00</td>\n",
       "      <td>...</td>\n",
       "      <td>12</td>\n",
       "      <td>12</td>\n",
       "      <td>2016</td>\n",
       "      <td>13</td>\n",
       "      <td>0</td>\n",
       "      <td>1</td>\n",
       "      <td>6</td>\n",
       "      <td>41</td>\n",
       "      <td>17</td>\n",
       "      <td>42</td>\n",
       "    </tr>\n",
       "    <tr>\n",
       "      <th>32530</th>\n",
       "      <td>1480632903</td>\n",
       "      <td>12/1/2016 12:00:00 AM</td>\n",
       "      <td>12:55:03</td>\n",
       "      <td>239.52</td>\n",
       "      <td>45</td>\n",
       "      <td>30.39</td>\n",
       "      <td>93</td>\n",
       "      <td>68.40</td>\n",
       "      <td>4.50</td>\n",
       "      <td>06:41:00</td>\n",
       "      <td>...</td>\n",
       "      <td>12</td>\n",
       "      <td>12</td>\n",
       "      <td>2016</td>\n",
       "      <td>12</td>\n",
       "      <td>55</td>\n",
       "      <td>3</td>\n",
       "      <td>6</td>\n",
       "      <td>41</td>\n",
       "      <td>17</td>\n",
       "      <td>42</td>\n",
       "    </tr>\n",
       "    <tr>\n",
       "      <th>32533</th>\n",
       "      <td>1480632003</td>\n",
       "      <td>12/1/2016 12:00:00 AM</td>\n",
       "      <td>12:40:03</td>\n",
       "      <td>168.63</td>\n",
       "      <td>45</td>\n",
       "      <td>30.40</td>\n",
       "      <td>93</td>\n",
       "      <td>111.19</td>\n",
       "      <td>15.75</td>\n",
       "      <td>06:41:00</td>\n",
       "      <td>...</td>\n",
       "      <td>12</td>\n",
       "      <td>12</td>\n",
       "      <td>2016</td>\n",
       "      <td>12</td>\n",
       "      <td>40</td>\n",
       "      <td>3</td>\n",
       "      <td>6</td>\n",
       "      <td>41</td>\n",
       "      <td>17</td>\n",
       "      <td>42</td>\n",
       "    </tr>\n",
       "    <tr>\n",
       "      <th>32535</th>\n",
       "      <td>1480631401</td>\n",
       "      <td>12/1/2016 12:00:00 AM</td>\n",
       "      <td>12:30:01</td>\n",
       "      <td>163.91</td>\n",
       "      <td>45</td>\n",
       "      <td>30.40</td>\n",
       "      <td>93</td>\n",
       "      <td>159.64</td>\n",
       "      <td>13.50</td>\n",
       "      <td>06:41:00</td>\n",
       "      <td>...</td>\n",
       "      <td>12</td>\n",
       "      <td>12</td>\n",
       "      <td>2016</td>\n",
       "      <td>12</td>\n",
       "      <td>30</td>\n",
       "      <td>1</td>\n",
       "      <td>6</td>\n",
       "      <td>41</td>\n",
       "      <td>17</td>\n",
       "      <td>42</td>\n",
       "    </tr>\n",
       "  </tbody>\n",
       "</table>\n",
       "<p>6806 rows × 21 columns</p>\n",
       "</div>"
      ],
      "text/plain": [
       "         UNIXTime                   Data      Time  Radiation  Temperature  \\\n",
       "84     1475204125  9/29/2016 12:00:00 AM  16:55:25     300.94           58   \n",
       "85     1475203822  9/29/2016 12:00:00 AM  16:50:22     322.71           58   \n",
       "86     1475203538  9/29/2016 12:00:00 AM  16:45:38     346.59           58   \n",
       "87     1475203220  9/29/2016 12:00:00 AM  16:40:20     364.18           58   \n",
       "88     1475202941  9/29/2016 12:00:00 AM  16:35:41     368.35           58   \n",
       "...           ...                    ...       ...        ...          ...   \n",
       "32528  1480633503  12/1/2016 12:00:00 AM  13:05:03     384.66           45   \n",
       "32529  1480633201  12/1/2016 12:00:00 AM  13:00:01     269.61           45   \n",
       "32530  1480632903  12/1/2016 12:00:00 AM  12:55:03     239.52           45   \n",
       "32533  1480632003  12/1/2016 12:00:00 AM  12:40:03     168.63           45   \n",
       "32535  1480631401  12/1/2016 12:00:00 AM  12:30:01     163.91           45   \n",
       "\n",
       "       Pressure  Humidity  WindDirection(Degrees)  Speed TimeSunRise  ...  \\\n",
       "84        30.43        55                   45.88   3.37    06:13:00  ...   \n",
       "85        30.43        56                   94.24   7.87    06:13:00  ...   \n",
       "86        30.43        50                   81.57   6.75    06:13:00  ...   \n",
       "87        30.43        49                  351.03   7.87    06:13:00  ...   \n",
       "88        30.43        51                   78.81   5.62    06:13:00  ...   \n",
       "...         ...       ...                     ...    ...         ...  ...   \n",
       "32528     30.39        93                   47.18  10.12    06:41:00  ...   \n",
       "32529     30.39        93                  355.33  14.62    06:41:00  ...   \n",
       "32530     30.39        93                   68.40   4.50    06:41:00  ...   \n",
       "32533     30.40        93                  111.19  15.75    06:41:00  ...   \n",
       "32535     30.40        93                  159.64  13.50    06:41:00  ...   \n",
       "\n",
       "      monthOfyear  dayOfmonth  year  hourOfday  minuteOfhour  secondsOminute  \\\n",
       "84              9          29  2016         16            55              25   \n",
       "85              9          29  2016         16            50              22   \n",
       "86              9          29  2016         16            45              38   \n",
       "87              9          29  2016         16            40              20   \n",
       "88              9          29  2016         16            35              41   \n",
       "...           ...         ...   ...        ...           ...             ...   \n",
       "32528          12          12  2016         13             5               3   \n",
       "32529          12          12  2016         13             0               1   \n",
       "32530          12          12  2016         12            55               3   \n",
       "32533          12          12  2016         12            40               3   \n",
       "32535          12          12  2016         12            30               1   \n",
       "\n",
       "       Sunrisehour  Sunriseminuter  Sunsethour  Sunsetminute  \n",
       "84               6              13          18            13  \n",
       "85               6              13          18            13  \n",
       "86               6              13          18            13  \n",
       "87               6              13          18            13  \n",
       "88               6              13          18            13  \n",
       "...            ...             ...         ...           ...  \n",
       "32528            6              41          17            42  \n",
       "32529            6              41          17            42  \n",
       "32530            6              41          17            42  \n",
       "32533            6              41          17            42  \n",
       "32535            6              41          17            42  \n",
       "\n",
       "[6806 rows x 21 columns]"
      ]
     },
     "execution_count": 11,
     "metadata": {},
     "output_type": "execute_result"
    }
   ],
   "source": [
    "dataAdjusted"
   ]
  },
  {
   "cell_type": "code",
   "execution_count": 12,
   "id": "85b69d0b",
   "metadata": {},
   "outputs": [],
   "source": [
    "#df['Time']=pd.to_timedelta(df['Time']).map(lambda x:x.total_seconds())\n",
    "#df['TimeSunRise']=pd.to_timedelta(df['TimeSunRise']).map(lambda x:x.total_seconds())\n",
    "#df['TimeSunSet']=pd.to_timedelta(df['TimeSunRise']).map(lambda x:x.total_seconds())\n",
    "import matplotlib.pyplot as plt\n",
    "import seaborn as sns\n",
    "%matplotlib inline\n",
    "%reload_ext autoreload\n",
    "%autoreload 2\n",
    "#sns.distplot(x = 'monthOfyear',y ='Radiation',data=df)"
   ]
  },
  {
   "cell_type": "code",
   "execution_count": 13,
   "id": "77e4ed07",
   "metadata": {},
   "outputs": [
    {
     "data": {
      "text/plain": [
       "'\\nVISUALIZATION STAGE 1\\nThis is at stage  the data is visualized. So that we can look at the distribution.\\nIf it is normally distributed then I can just proceede without scaling the data \\notherwise the data will have to be normalized in order to get unbiased results\\n'"
      ]
     },
     "execution_count": 13,
     "metadata": {},
     "output_type": "execute_result"
    }
   ],
   "source": [
    "\"\"\"\n",
    "VISUALIZATION STAGE 1\n",
    "This is at stage  the data is visualized. So that we can look at the distribution.\n",
    "If it is normally distributed then I can just proceede without scaling the data \n",
    "otherwise the data will have to be normalized in order to get unbiased results\n",
    "\"\"\""
   ]
  },
  {
   "cell_type": "code",
   "execution_count": 14,
   "id": "761e5b26",
   "metadata": {},
   "outputs": [
    {
     "data": {
      "text/plain": [
       "Text(0.5, 1.0, 'Day Of The Month')"
      ]
     },
     "execution_count": 14,
     "metadata": {},
     "output_type": "execute_result"
    },
    {
     "data": {
      "image/png": "[encoded data removed]",
      "text/plain": [
       "<Figure size 1008x1008 with 8 Axes>"
      ]
     },
     "metadata": {
      "needs_background": "light"
     },
     "output_type": "display_data"
    }
   ],
   "source": [
    "import numpy as np\n",
    "fig, ((ax1,ax2),(ax3,ax4),(ax5,ax6),(ax7,ax8)) = plt.subplots(4,2,figsize=(14,14))\n",
    "rad=np.array(df['Radiation'])\n",
    "temp=np.array(df['Temperature'])\n",
    "humd=np.array(df['Humidity'])\n",
    "press=np.array(df['Pressure'])\n",
    "winddir=np.array(df['WindDirection(Degrees)'])\n",
    "windsp=np.array(df['Speed'])\n",
    "month=df.monthOfyear\n",
    "day=df.dayOfmonth\n",
    "ax1.hist(rad,bins=50)\n",
    "ax1.set_title('Radiation')\n",
    "ax2.hist(temp)\n",
    "ax2.set_title('Temperature')\n",
    "ax3.hist(humd)\n",
    "ax3.set_title('Humidity')\n",
    "ax4.hist(press)\n",
    "ax4.set_title('Pressure')\n",
    "ax5.hist(winddir)\n",
    "ax5.set_title('Wind Direction in Degrees')\n",
    "ax6.hist(windsp)\n",
    "ax6.set_title('Wind Speed In mls/hr')\n",
    "ax7.hist(month)\n",
    "ax7.set_title('Month Of The Year')\n",
    "ax8.hist(day)\n",
    "ax8.set_title('Day Of The Month')"
   ]
  },
  {
   "cell_type": "code",
   "execution_count": 15,
   "id": "152e83ad",
   "metadata": {},
   "outputs": [
    {
     "data": {
      "text/plain": [
       "'\\nAs it can be seen above from plots for the data, it shows severe skewness in the data.\\nRadiation alone varies from 0.15 to over 1000W/m². Othe variable are no different.\\nThe reasonable and sensible approach would be to normalize the data before I proceed \\nwith prediction. I believe that normalization will significatly reduce the biasness in\\nthe results. But, before normalizing the data I will look at the second stage of \\nvisualization.\\n'"
      ]
     },
     "execution_count": 15,
     "metadata": {},
     "output_type": "execute_result"
    }
   ],
   "source": [
    "\"\"\"\n",
    "As it can be seen above from plots for the data, it shows severe skewness in the data.\n",
    "Radiation alone varies from 0.15 to over 1000W/m². Othe variable are no different.\n",
    "The reasonable and sensible approach would be to normalize the data before I proceed \n",
    "with prediction. I believe that normalization will significatly reduce the biasness in\n",
    "the results. But, before normalizing the data I will look at the second stage of \n",
    "visualization.\n",
    "\"\"\""
   ]
  },
  {
   "cell_type": "code",
   "execution_count": 16,
   "id": "cab48c25",
   "metadata": {},
   "outputs": [
    {
     "data": {
      "text/plain": [
       "'\\nAt this point, it is necessary to seperate columns for the work ahead.\\nThis is because some columns such seconds, sunrisehour e.t.c will not have an effect\\non the prediction results\\n'"
      ]
     },
     "execution_count": 16,
     "metadata": {},
     "output_type": "execute_result"
    }
   ],
   "source": [
    "\"\"\"\n",
    "At this point, it is necessary to seperate columns for the work ahead.\n",
    "This is because some columns such seconds, sunrisehour e.t.c will not have an effect\n",
    "on the prediction results\n",
    "\"\"\""
   ]
  },
  {
   "cell_type": "code",
   "execution_count": 17,
   "id": "3a02887c",
   "metadata": {},
   "outputs": [],
   "source": [
    "import pandas as pd\n",
    "df=pd.DataFrame(df[['Radiation','Temperature','Pressure','Humidity','WindDirection(Degrees)','Speed','monthOfyear','dayOfmonth','year','hourOfday','minuteOfhour','secondsOminute','Sunrisehour','Sunriseminuter','Sunsethour','Sunsetminute']])"
   ]
  },
  {
   "cell_type": "code",
   "execution_count": 18,
   "id": "4b779019",
   "metadata": {},
   "outputs": [
    {
     "data": {
      "text/plain": [
       "'\\nVISUALIZATION STAGE 2\\nNow I will split the data into groups for comparisions. The visualization at this point is tothat can determine the \\nprovides the level of correlation between the various categorical variables\\n'"
      ]
     },
     "execution_count": 18,
     "metadata": {},
     "output_type": "execute_result"
    }
   ],
   "source": [
    "\"\"\"\n",
    "VISUALIZATION STAGE 2\n",
    "Now I will split the data into groups for comparisions. The visualization at this point is tothat can determine the \n",
    "provides the level of correlation between the various categorical variables\n",
    "\"\"\""
   ]
  },
  {
   "cell_type": "code",
   "execution_count": 19,
   "id": "addb7a65",
   "metadata": {},
   "outputs": [
    {
     "data": {
      "image/png": "[encoded data removed]",
      "text/plain": [
       "<Figure size 1008x864 with 8 Axes>"
      ]
     },
     "metadata": {
      "needs_background": "light"
     },
     "output_type": "display_data"
    }
   ],
   "source": [
    "df1=df.groupby('monthOfyear').mean().reset_index()\n",
    "df2=df.groupby('dayOfmonth').mean().reset_index()\n",
    "df3=df.groupby('hourOfday').mean().reset_index()\n",
    "\n",
    "f, ((ax1,ax3), (ax2, ax4), (ax5, ax6), (ax7, ax8)) = plt.subplots(4, 2, sharex='col', sharey='row', figsize=(14,12))\n",
    "ax1.set_title('Average Radiation Per Day')\n",
    "pal = sns.color_palette(\"YlOrRd_r\", len(df))\n",
    "rank = df2['Radiation'].argsort().argsort()\n",
    "sns.barplot(x=\"dayOfmonth\", y='Radiation', data=df2, palette='Spectral', ax=ax1)\n",
    "ax1.set_xlabel('DayOfmonth')\n",
    "\n",
    "#fig2, ax2= plt.subplots()\n",
    "ax2.set_title('Average Radiation per Month')\n",
    "sns.barplot(x='monthOfyear', y='Radiation', data=df1, palette=\"YlOrRd_r\", ax=ax2)\n",
    "\n",
    "#fig3, ax3= plt.subplots()\n",
    "ax3.set_title('Average Temperature Per Day')\n",
    "sns.barplot(x=\"dayOfmonth\", y='Temperature', data=df2, palette=\"Spectral\", ax=ax3)\n",
    "ax3.set_xlabel('')\n",
    "ax3.set_ylim(33,71)\n",
    "\n",
    "ax4.set_title('Average Temperature Per Month')\n",
    "sns.barplot(x=\"monthOfyear\", y='Temperature', data=df1, palette='Spectral', ax=ax4)\n",
    "ax4.set_xlabel('')\n",
    "ax4.set_ylim(33,71)\n",
    "\n",
    "ax5.set_title('Mean Pressure Per Day')\n",
    "sns.barplot(x=\"dayOfmonth\", y='Pressure', data=df2, palette='YlOrRd_r', ax=ax5)\n",
    "ax5.set_xlabel('')\n",
    "\n",
    "ax6.set_title('Average Pressure Per Month')\n",
    "sns.barplot(x=\"monthOfyear\", y='Pressure', data=df1, palette='YlOrRd_r', ax=ax6)\n",
    "ax6.set_xlabel('')\n",
    "\n",
    "ax7.set_title('Averagew Humidity Per Day')\n",
    "sns.barplot(x=\"dayOfmonth\", y='Humidity', data=df2, palette='YlOrRd_r', ax=ax7)\n",
    "ax7.set_ylim(8,103)\n",
    "\n",
    "ax8.set_title('Average Humidity Per Month')\n",
    "sns.barplot(x=\"monthOfyear\", y='Humidity', data=df1, palette='YlOrRd_r', ax=ax8)\n",
    "ax8.set_ylim(8,103)\n",
    "plt.show()"
   ]
  },
  {
   "cell_type": "code",
   "execution_count": 20,
   "id": "4e21fe7e",
   "metadata": {},
   "outputs": [
    {
     "data": {
      "text/plain": [
       "'\\nFrom the plots above it clearly shows that temperature is highly correlated with \\nradiation\\nFurthermore, with the help of the heatmap a Pearson correlation below we can obtain \\nconclusive evidence that temperature has the most effection on the amount of radition\\ngenerated in a day.\\n'"
      ]
     },
     "execution_count": 20,
     "metadata": {},
     "output_type": "execute_result"
    }
   ],
   "source": [
    "\"\"\"\n",
    "From the plots above it clearly shows that temperature is highly correlated with \n",
    "radiation\n",
    "Furthermore, with the help of the heatmap a Pearson correlation below we can obtain \n",
    "conclusive evidence that temperature has the most effection on the amount of radition\n",
    "generated in a day.\n",
    "\"\"\""
   ]
  },
  {
   "cell_type": "code",
   "execution_count": 21,
   "id": "84f2397b",
   "metadata": {},
   "outputs": [],
   "source": [
    "df=pd.DataFrame(df[['Radiation','Temperature','Pressure','Humidity','WindDirection(Degrees)','Speed','monthOfyear','dayOfmonth']])"
   ]
  },
  {
   "cell_type": "code",
   "execution_count": 22,
   "id": "678ca9c8",
   "metadata": {},
   "outputs": [],
   "source": [
    "dfcorr=df.corr()"
   ]
  },
  {
   "cell_type": "code",
   "execution_count": 23,
   "id": "4731d9bb",
   "metadata": {},
   "outputs": [
    {
     "data": {
      "text/plain": [
       "<AxesSubplot:>"
      ]
     },
     "execution_count": 23,
     "metadata": {},
     "output_type": "execute_result"
    },
    {
     "data": {
      "image/png": "[encoded data removed]",
      "text/plain": [
       "<Figure size 504x504 with 2 Axes>"
      ]
     },
     "metadata": {
      "needs_background": "light"
     },
     "output_type": "display_data"
    }
   ],
   "source": [
    "fig, ax = plt.subplots(figsize=(7,7))\n",
    "sns.heatmap(dfcorr, vmin=0.01, vmax=1, square=True, cmap ='flare')"
   ]
  },
  {
   "cell_type": "code",
   "execution_count": 24,
   "id": "f32a59c7",
   "metadata": {},
   "outputs": [
    {
     "data": {
      "text/plain": [
       "\"\\nMODEL IMPLEMENTATION:\\nThis is a discription of the process and architecture of the model that will be used to\\nmake accurate predictions.\\n\\nArtificial Neural Network model(ANN):\\nA Multi-Layer Perceptron(MPl). It will use a feed-forward backprogation process.\\n\\nActivation Function:\\nRelu: Rectified Linear Unit. Very popular in deep learning models. It returns zero of \\nnegative inputs and returns the input value for positive inputs. It is given by the\\nthe following equation  f(x)= max(0,x).\\n\\nThere two stages neural network: the learning stage and testing stage. In the learning\\nstage the network makes errors and learns from it by adjusting the weights and biases \\nto properly predict correct values.\\nMathematically it can represent by the function below:\\nY(x,w) = ∑ᵢⁿ = wᵢ✸xᵢ + b\\nw is the weight matrix and b is the bias\\n\\n\\nLoss Function:\\nThe mean squared error will be used\\n𝑀 𝑆 𝐸 = 1/𝑁 + ∑ᵢⁿ = 1 (𝑦ᵢ− 𝑦︤ᵢ)² \\n\\nN is the number of samples 𝑦 is the actual value and 𝑦︤ is the calculate value\\n\\nOptimizer: An Adam optimizer in addition to Stochastic Gradient Descent will be utilized\\nin this model. Adam optimizer, one of the best current optimizers inherits from \\nRoot Means Squared Propagation(RMSProp) and Gradiet Decent with Momentum. The equation \\nis given below\\n(\\nW𝑡 = W(𝑡−1) − α✸M𝑡/(√(V𝑡)+Є)\\nw are the weights, α is the learning rate m and v are moving averages and Є is a small\\nscalar to prevent division by zero\\nConclusion:\\nAll the above procedures are incorporated in the SKlearn's MLPRegressor module. This\\nmodule will make it convenient because the above given function are in it. However it I\\nstill have run different simulation until minimize the loss function to lowest value.\\n\\n\""
      ]
     },
     "execution_count": 24,
     "metadata": {},
     "output_type": "execute_result"
    }
   ],
   "source": [
    "\"\"\"\n",
    "MODEL IMPLEMENTATION:\n",
    "This is a discription of the process and architecture of the model that will be used to\n",
    "make accurate predictions.\n",
    "\n",
    "Artificial Neural Network model(ANN):\n",
    "A Multi-Layer Perceptron(MPl). It will use a feed-forward backprogation process.\n",
    "\n",
    "Activation Function:\n",
    "Relu: Rectified Linear Unit. Very popular in deep learning models. It returns zero of \n",
    "negative inputs and returns the input value for positive inputs. It is given by the\n",
    "the following equation  f(x)= max(0,x).\n",
    "\n",
    "There two stages neural network: the learning stage and testing stage. In the learning\n",
    "stage the network makes errors and learns from it by adjusting the weights and biases \n",
    "to properly predict correct values.\n",
    "Mathematically it can represent by the function below:\n",
    "Y(x,w) = ∑ᵢⁿ = wᵢ✸xᵢ + b\n",
    "w is the weight matrix and b is the bias\n",
    "\n",
    "\n",
    "Loss Function:\n",
    "The mean squared error will be used\n",
    "𝑀 𝑆 𝐸 = 1/𝑁 + ∑ᵢⁿ = 1 (𝑦ᵢ− 𝑦︤ᵢ)² \n",
    "\n",
    "N is the number of samples 𝑦 is the actual value and 𝑦︤ is the calculate value\n",
    "\n",
    "Optimizer: An Adam optimizer in addition to Stochastic Gradient Descent will be utilized\n",
    "in this model. Adam optimizer, one of the best current optimizers inherits from \n",
    "Root Means Squared Propagation(RMSProp) and Gradiet Decent with Momentum. The equation \n",
    "is given below\n",
    "(\n",
    "W𝑡 = W(𝑡−1) − α✸M𝑡/(√(V𝑡)+Є)\n",
    "w are the weights, α is the learning rate m and v are moving averages and Є is a small\n",
    "scalar to prevent division by zero\n",
    "Conclusion:\n",
    "All the above procedures are incorporated in the SKlearn's MLPRegressor module. This\n",
    "module will make it convenient because the above given function are in it. However it I\n",
    "still have run different simulation until minimize the loss function to lowest value.\n",
    "\n",
    "\"\"\""
   ]
  },
  {
   "cell_type": "code",
   "execution_count": 25,
   "id": "58adac3a",
   "metadata": {},
   "outputs": [
    {
     "data": {
      "text/plain": [
       "'\\nThe step below the columns of data that will be used for prediction are transformed into \\nnumpy arrays.\\n'"
      ]
     },
     "execution_count": 25,
     "metadata": {},
     "output_type": "execute_result"
    }
   ],
   "source": [
    "\"\"\"\n",
    "The step below the columns of data that will be used for prediction are transformed into \n",
    "numpy arrays.\n",
    "\"\"\""
   ]
  },
  {
   "cell_type": "code",
   "execution_count": 26,
   "id": "9e019f82",
   "metadata": {},
   "outputs": [],
   "source": [
    "df_1=df[['Radiation','Temperature','Pressure','Humidity','WindDirection(Degrees)','Speed','monthOfyear','dayOfmonth']].to_numpy()"
   ]
  },
  {
   "cell_type": "code",
   "execution_count": 27,
   "id": "7890f838",
   "metadata": {},
   "outputs": [],
   "source": [
    "dataAdjusted=dataAdjusted[['Radiation','Temperature','Pressure','Humidity','WindDirection(Degrees)','Speed','monthOfyear','dayOfmonth']].to_numpy()"
   ]
  },
  {
   "cell_type": "code",
   "execution_count": 28,
   "id": "34a3f942",
   "metadata": {},
   "outputs": [],
   "source": [
    "#data12=df.loc[(df['monthOfyear'] ==1 )]\n",
    "#data12"
   ]
  },
  {
   "cell_type": "code",
   "execution_count": 29,
   "id": "59448944",
   "metadata": {},
   "outputs": [
    {
     "data": {
      "text/plain": [
       "'\\nData Separition:\\nNext, the data will be split into two sets. One for training(X_train, Y_train) and the \\nsecond one for testing(X_test, Y_test)\\nBut, first I will split the data into input data(independent variable) and output(depen\\ndent variable). This is done using python slicing. \\n'"
      ]
     },
     "execution_count": 29,
     "metadata": {},
     "output_type": "execute_result"
    }
   ],
   "source": [
    "\"\"\"\n",
    "Data Separition:\n",
    "Next, the data will be split into two sets. One for training(X_train, Y_train) and the \n",
    "second one for testing(X_test, Y_test)\n",
    "But, first I will split the data into input data(independent variable) and output(depen\n",
    "dent variable). This is done using python slicing. \n",
    "\"\"\""
   ]
  },
  {
   "cell_type": "code",
   "execution_count": 30,
   "id": "6095aab4",
   "metadata": {},
   "outputs": [],
   "source": [
    "from sklearn import preprocessing\n",
    "scaler = preprocessing.RobustScaler()\n",
    "df_normalized=scaler.fit_transform(df)"
   ]
  },
  {
   "cell_type": "code",
   "execution_count": 31,
   "id": "a61aadd2",
   "metadata": {},
   "outputs": [],
   "source": [
    "X_input=df_normalized[:,1:]\n",
    "Y_input=df_normalized[:,0]"
   ]
  },
  {
   "cell_type": "code",
   "execution_count": 32,
   "id": "4f5647d9",
   "metadata": {},
   "outputs": [
    {
     "data": {
      "text/plain": [
       "array([-0.00410759, -0.00410759, -0.00405093, ..., -0.00413592,\n",
       "       -0.00405093, -0.00413592])"
      ]
     },
     "execution_count": 32,
     "metadata": {},
     "output_type": "execute_result"
    }
   ],
   "source": [
    "Y_input"
   ]
  },
  {
   "cell_type": "code",
   "execution_count": 33,
   "id": "4ea5d692",
   "metadata": {},
   "outputs": [
    {
     "data": {
      "text/plain": [
       "'\\nThe function below is to generalized the model so that it can be use to predict any of\\nthe weather variable in this data set.\\n'"
      ]
     },
     "execution_count": 33,
     "metadata": {},
     "output_type": "execute_result"
    }
   ],
   "source": [
    "\"\"\"\n",
    "The function below is to generalized the model so that it can be use to predict any of\n",
    "the weather variable in this data set.\n",
    "\"\"\""
   ]
  },
  {
   "cell_type": "code",
   "execution_count": 34,
   "id": "86d7b55e",
   "metadata": {},
   "outputs": [],
   "source": [
    "import numpy as np\n",
    "def weatherOptions():\n",
    "    print('1.Radiation\\n2.Temperature\\n3.Pressure\\n4.Humidity\\n5.WindDirection(Degrees)\\n6.Speed')\n",
    "    Choice = input('Choose from the options above:\\n')\n",
    "    if Choice == '1':\n",
    "        X_input=df_normalized[:,1:]\n",
    "        Y_input = df_normalized[:,0]\n",
    "    elif Choice == '2':\n",
    "        X_input = df_normalized[:,[0,2,3,4,5,6,7]]\n",
    "        Y_input = df_normalized[:,1]\n",
    "    elif Choice == '3':\n",
    "        X_input = df_normalized[:,[0,1,3,4,5,6,7]]\n",
    "        Y_input = df_normalized[:,2]\n",
    "    elif Choice == '4':\n",
    "        X_input = df_normalized[:,[0,1,3,5,6,7]]\n",
    "        Y_input = df_normalized[:,4]\n",
    "    elif Choice == '5': \n",
    "        df_normalized[:,[0,1,3,4,6,7]]\n",
    "        Y_input = df_normalized[:,5]\n",
    "    else:\n",
    "        X_input = df_normalized[:,[0,1,3,4,5,7]]\n",
    "        Y_input = df_normalized[:,6]\n",
    "        return X_input,Y_input"
   ]
  },
  {
   "cell_type": "code",
   "execution_count": 35,
   "id": "a8408b38",
   "metadata": {},
   "outputs": [
    {
     "name": "stdout",
     "output_type": "stream",
     "text": [
      "1.Radiation\n",
      "2.Temperature\n",
      "3.Pressure\n",
      "4.Humidity\n",
      "5.WindDirection(Degrees)\n",
      "6.Speed\n"
     ]
    },
    {
     "ename": "KeyboardInterrupt",
     "evalue": "Interrupted by user",
     "output_type": "error",
     "traceback": [
      "\u001b[0;31m---------------------------------------------------------------------------\u001b[0m",
      "\u001b[0;31mKeyboardInterrupt\u001b[0m                         Traceback (most recent call last)",
      "\u001b[0;32m/var/folders/yj/_5lsth1x58b5xz2mzqkg7gp40000gn/T/ipykernel_3119/3710591332.py\u001b[0m in \u001b[0;36m<module>\u001b[0;34m\u001b[0m\n\u001b[0;32m----> 1\u001b[0;31m \u001b[0mweatherOptions\u001b[0m\u001b[0;34m(\u001b[0m\u001b[0;34m)\u001b[0m\u001b[0;34m\u001b[0m\u001b[0;34m\u001b[0m\u001b[0m\n\u001b[0m",
      "\u001b[0;32m/var/folders/yj/_5lsth1x58b5xz2mzqkg7gp40000gn/T/ipykernel_3119/3107229839.py\u001b[0m in \u001b[0;36mweatherOptions\u001b[0;34m()\u001b[0m\n\u001b[1;32m      2\u001b[0m \u001b[0;32mdef\u001b[0m \u001b[0mweatherOptions\u001b[0m\u001b[0;34m(\u001b[0m\u001b[0;34m)\u001b[0m\u001b[0;34m:\u001b[0m\u001b[0;34m\u001b[0m\u001b[0;34m\u001b[0m\u001b[0m\n\u001b[1;32m      3\u001b[0m     \u001b[0mprint\u001b[0m\u001b[0;34m(\u001b[0m\u001b[0;34m'1.Radiation\\n2.Temperature\\n3.Pressure\\n4.Humidity\\n5.WindDirection(Degrees)\\n6.Speed'\u001b[0m\u001b[0;34m)\u001b[0m\u001b[0;34m\u001b[0m\u001b[0;34m\u001b[0m\u001b[0m\n\u001b[0;32m----> 4\u001b[0;31m     \u001b[0mChoice\u001b[0m \u001b[0;34m=\u001b[0m \u001b[0minput\u001b[0m\u001b[0;34m(\u001b[0m\u001b[0;34m'Choose from the options above:\\n'\u001b[0m\u001b[0;34m)\u001b[0m\u001b[0;34m\u001b[0m\u001b[0;34m\u001b[0m\u001b[0m\n\u001b[0m\u001b[1;32m      5\u001b[0m     \u001b[0;32mif\u001b[0m \u001b[0mChoice\u001b[0m \u001b[0;34m==\u001b[0m \u001b[0;34m'1'\u001b[0m\u001b[0;34m:\u001b[0m\u001b[0;34m\u001b[0m\u001b[0;34m\u001b[0m\u001b[0m\n\u001b[1;32m      6\u001b[0m         \u001b[0mX_input\u001b[0m\u001b[0;34m=\u001b[0m\u001b[0mdf_normalized\u001b[0m\u001b[0;34m[\u001b[0m\u001b[0;34m:\u001b[0m\u001b[0;34m,\u001b[0m\u001b[0;36m1\u001b[0m\u001b[0;34m:\u001b[0m\u001b[0;34m]\u001b[0m\u001b[0;34m\u001b[0m\u001b[0;34m\u001b[0m\u001b[0m\n",
      "\u001b[0;32m~/opt/anaconda3/lib/python3.8/site-packages/ipykernel/kernelbase.py\u001b[0m in \u001b[0;36mraw_input\u001b[0;34m(self, prompt)\u001b[0m\n\u001b[1;32m   1004\u001b[0m                 \u001b[0;34m\"raw_input was called, but this frontend does not support input requests.\"\u001b[0m\u001b[0;34m\u001b[0m\u001b[0;34m\u001b[0m\u001b[0m\n\u001b[1;32m   1005\u001b[0m             )\n\u001b[0;32m-> 1006\u001b[0;31m         return self._input_request(\n\u001b[0m\u001b[1;32m   1007\u001b[0m             \u001b[0mstr\u001b[0m\u001b[0;34m(\u001b[0m\u001b[0mprompt\u001b[0m\u001b[0;34m)\u001b[0m\u001b[0;34m,\u001b[0m\u001b[0;34m\u001b[0m\u001b[0;34m\u001b[0m\u001b[0m\n\u001b[1;32m   1008\u001b[0m             \u001b[0mself\u001b[0m\u001b[0;34m.\u001b[0m\u001b[0m_parent_ident\u001b[0m\u001b[0;34m[\u001b[0m\u001b[0;34m\"shell\"\u001b[0m\u001b[0;34m]\u001b[0m\u001b[0;34m,\u001b[0m\u001b[0;34m\u001b[0m\u001b[0;34m\u001b[0m\u001b[0m\n",
      "\u001b[0;32m~/opt/anaconda3/lib/python3.8/site-packages/ipykernel/kernelbase.py\u001b[0m in \u001b[0;36m_input_request\u001b[0;34m(self, prompt, ident, parent, password)\u001b[0m\n\u001b[1;32m   1049\u001b[0m             \u001b[0;32mexcept\u001b[0m \u001b[0mKeyboardInterrupt\u001b[0m\u001b[0;34m:\u001b[0m\u001b[0;34m\u001b[0m\u001b[0;34m\u001b[0m\u001b[0m\n\u001b[1;32m   1050\u001b[0m                 \u001b[0;31m# re-raise KeyboardInterrupt, to truncate traceback\u001b[0m\u001b[0;34m\u001b[0m\u001b[0;34m\u001b[0m\u001b[0;34m\u001b[0m\u001b[0m\n\u001b[0;32m-> 1051\u001b[0;31m                 \u001b[0;32mraise\u001b[0m \u001b[0mKeyboardInterrupt\u001b[0m\u001b[0;34m(\u001b[0m\u001b[0;34m\"Interrupted by user\"\u001b[0m\u001b[0;34m)\u001b[0m \u001b[0;32mfrom\u001b[0m \u001b[0;32mNone\u001b[0m\u001b[0;34m\u001b[0m\u001b[0;34m\u001b[0m\u001b[0m\n\u001b[0m\u001b[1;32m   1052\u001b[0m             \u001b[0;32mexcept\u001b[0m \u001b[0mException\u001b[0m\u001b[0;34m:\u001b[0m\u001b[0;34m\u001b[0m\u001b[0;34m\u001b[0m\u001b[0m\n\u001b[1;32m   1053\u001b[0m                 \u001b[0mself\u001b[0m\u001b[0;34m.\u001b[0m\u001b[0mlog\u001b[0m\u001b[0;34m.\u001b[0m\u001b[0mwarning\u001b[0m\u001b[0;34m(\u001b[0m\u001b[0;34m\"Invalid Message:\"\u001b[0m\u001b[0;34m,\u001b[0m \u001b[0mexc_info\u001b[0m\u001b[0;34m=\u001b[0m\u001b[0;32mTrue\u001b[0m\u001b[0;34m)\u001b[0m\u001b[0;34m\u001b[0m\u001b[0;34m\u001b[0m\u001b[0m\n",
      "\u001b[0;31mKeyboardInterrupt\u001b[0m: Interrupted by user"
     ]
    }
   ],
   "source": [
    "weatherOptions()"
   ]
  },
  {
   "cell_type": "code",
   "execution_count": null,
   "id": "ec9b729a",
   "metadata": {},
   "outputs": [],
   "source": [
    "from sklearn.model_selection import train_test_split\n",
    "X_train, X_test, Y_train, Y_test = train_test_split(X_input, Y_input, test_size=0.2 , random_state=1)"
   ]
  },
  {
   "cell_type": "code",
   "execution_count": null,
   "id": "4db55181",
   "metadata": {},
   "outputs": [],
   "source": [
    "\"\"\"\n",
    "As pointed out from earlier observation of data, now I will implement the normalization\n",
    "of the data using Sklearn's RobustScaler\n",
    "RobustScaler is my preffered choice for the scaling algorithms. As the name sounds, it is\n",
    "a robust method. It accounts for outliers. Outliers can always influence the sample\n",
    "mean and variance. The RobustScaler method will romove the median and use the \n",
    "interquartile range to eliminate the biasnes.\n",
    "The normalizing equation is given by Z = 𝑥𝑖−𝜇/𝜎. However this equation is already built\n",
    "into RobustScaler module.\n",
    "\"\"\""
   ]
  },
  {
   "cell_type": "code",
   "execution_count": null,
   "id": "b33fdeb3",
   "metadata": {},
   "outputs": [],
   "source": [
    "from sklearn.neural_network import MLPRegressor\n",
    "from sklearn.datasets import make_regression\n",
    "\n",
    "regr = MLPRegressor(random_state=1,hidden_layer_sizes=(9,),verbose=True,n_iter_no_change=100, max_iter=2000).fit(X_train, Y_train)\n",
    "outputTest=regr.predict(X_test[:2])\n",
    "#outputTrain=regr.predict(X_train_normalized[:2])\n",
    "\n",
    "score=regr.score(X_test, Y_test)"
   ]
  },
  {
   "cell_type": "code",
   "execution_count": null,
   "id": "251b45e5",
   "metadata": {},
   "outputs": [],
   "source": [
    "score"
   ]
  },
  {
   "cell_type": "code",
   "execution_count": null,
   "id": "d6bea107",
   "metadata": {},
   "outputs": [],
   "source": [
    "Y_test[:]"
   ]
  },
  {
   "cell_type": "code",
   "execution_count": null,
   "id": "1e7b81f0",
   "metadata": {},
   "outputs": [],
   "source": [
    "X_test[:2]"
   ]
  },
  {
   "cell_type": "code",
   "execution_count": null,
   "id": "1e142c8a",
   "metadata": {},
   "outputs": [],
   "source": [
    "\"\"\"\n",
    "dataAdjusted: Refers to selected hours of the day that pick out to predict radiation for\n",
    "These are hours between 10:00a.m and 5:00pm. During this period of time you get maximum\n",
    "average of sun rays and that give the maximum radiation to general solar energy.\n",
    "The cells below is the prediction for the dataAdjusted \n",
    "\"\"\""
   ]
  },
  {
   "cell_type": "code",
   "execution_count": null,
   "id": "fe1a64fb",
   "metadata": {},
   "outputs": [],
   "source": [
    "Y_train"
   ]
  },
  {
   "cell_type": "code",
   "execution_count": null,
   "id": "5a13531c",
   "metadata": {},
   "outputs": [],
   "source": [
    "from sklearn import preprocessing\n",
    "scaler = preprocessing.RobustScaler()\n",
    "data_normalized=scaler.fit_transform(dataAdjusted)"
   ]
  },
  {
   "cell_type": "code",
   "execution_count": null,
   "id": "46483ebb",
   "metadata": {},
   "outputs": [],
   "source": [
    "X_input2=data_normalized[:,1:]"
   ]
  },
  {
   "cell_type": "code",
   "execution_count": null,
   "id": "3083c3e9",
   "metadata": {},
   "outputs": [],
   "source": [
    "Y_input2=data_normalized[:,0]"
   ]
  },
  {
   "cell_type": "code",
   "execution_count": null,
   "id": "77a30e6e",
   "metadata": {},
   "outputs": [],
   "source": [
    "from sklearn.model_selection import train_test_split\n",
    "X_train2, X_test2, Y_train2, Y_test2 = train_test_split(X_input2, Y_input2, test_size=0.2 , random_state=1)"
   ]
  },
  {
   "cell_type": "code",
   "execution_count": null,
   "id": "698c466a",
   "metadata": {},
   "outputs": [],
   "source": [
    "score"
   ]
  },
  {
   "cell_type": "code",
   "execution_count": null,
   "id": "123896f4",
   "metadata": {},
   "outputs": [],
   "source": [
    "from sklearn.neural_network import MLPRegressor\n",
    "from sklearn.datasets import make_regression\n",
    "\n",
    "regr = MLPRegressor(random_state=1,hidden_layer_sizes=(9,),verbose=True,n_iter_no_change=100, max_iter=2000).fit(X_train2, Y_train2)\n",
    "outputTest=regr.predict(X_test2[:2])\n",
    "#outputTrain=regr.predict(X_train_normalized[:2])\n",
    "\n",
    "score2=regr.score(X_test2, Y_test2)"
   ]
  },
  {
   "cell_type": "code",
   "execution_count": null,
   "id": "50207b6a",
   "metadata": {},
   "outputs": [],
   "source": [
    "score2"
   ]
  },
  {
   "cell_type": "code",
   "execution_count": null,
   "id": "a7fcc84e",
   "metadata": {},
   "outputs": [],
   "source": [
    "Y_test2"
   ]
  },
  {
   "cell_type": "code",
   "execution_count": null,
   "id": "995d232f",
   "metadata": {},
   "outputs": [],
   "source": [
    "\"\"\"\n",
    "I believe with further tweaking of the parameters the model can be improved but due to\n",
    "time constraint I'm unable do more adjustments at this time. \n",
    "\n",
    "\"\"\""
   ]
  },
  {
   "cell_type": "code",
   "execution_count": null,
   "id": "e26e0559",
   "metadata": {},
   "outputs": [],
   "source": []
  }
 ],
 "metadata": {
  "kernelspec": {
   "display_name": "Python 3 (ipykernel)",
   "language": "python",
   "name": "python3"
  },
  "language_info": {
   "codemirror_mode": {
    "name": "ipython",
    "version": 3
   },
   "file_extension": ".py",
   "mimetype": "text/x-python",
   "name": "python",
   "nbconvert_exporter": "python",
   "pygments_lexer": "ipython3",
   "version": "3.8.5"
  }
 },
 "nbformat": 4,
 "nbformat_minor": 5
}
